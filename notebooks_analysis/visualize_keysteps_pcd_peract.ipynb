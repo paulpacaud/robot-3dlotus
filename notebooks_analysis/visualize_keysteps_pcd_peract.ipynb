{
 "cells": [
  {
   "metadata": {
    "ExecuteTime": {
     "end_time": "2024-11-11T20:25:23.128470956Z",
     "start_time": "2024-11-11T20:21:43.006726Z"
    }
   },
   "cell_type": "code",
   "source": [
    "import os\n",
    "import open3d as o3d\n",
    "import lmdb\n",
    "import msgpack\n",
    "import msgpack_numpy\n",
    "import copy\n",
    "msgpack_numpy.patch()\n",
    "\n",
    "import plotly.graph_objects as go\n",
    "import json\n",
    "import numpy as np"
   ],
   "id": "91dae994877f39e8",
   "outputs": [
    {
     "name": "stdout",
     "output_type": "stream",
     "text": [
      "Jupyter environment detected. Enabling Open3D WebVisualizer.\n",
      "[Open3D INFO] WebRTC GUI backend enabled.\n",
      "[Open3D INFO] WebRTCWindowSystem: HTTP handshake server disabled.\n"
     ]
    }
   ],
   "execution_count": 2
  },
  {
   "metadata": {
    "ExecuteTime": {
     "end_time": "2024-11-11T20:25:52.405740Z",
     "start_time": "2024-11-11T20:25:52.400682Z"
    }
   },
   "cell_type": "code",
   "source": [
    "def visualize_point_clouds(xyz, rgb, gripper_pos, noisy_point=None):\n",
    "    \"\"\"\n",
    "    Visualize 3D point cloud data using Plotly\n",
    "    \n",
    "    Args:\n",
    "        xyz (numpy.ndarray): Point coordinates with shape (N, 3)\n",
    "        rgb (numpy.ndarray): RGB colors with shape (N, 3), values in range [0, 1]\n",
    "    \"\"\"\n",
    "    # Convert RGB values to strings for Plotly\n",
    "    colors = [f'rgb({r},{g},{b})' \n",
    "              for r, g, b in rgb]\n",
    "    \n",
    "    # Create the 3D scatter plot\n",
    "    fig = go.Figure(data=[go.Scatter3d(\n",
    "        x=xyz[:, 0],\n",
    "        y=xyz[:, 1],\n",
    "        z=xyz[:, 2],\n",
    "        mode='markers',\n",
    "        marker=dict(\n",
    "            size=2,\n",
    "            color=colors,\n",
    "            opacity=0.8\n",
    "        )\n",
    "    )])\n",
    "    \n",
    "    fig.add_trace(go.Scatter3d(\n",
    "        x=[gripper_pos[0]],\n",
    "        y=[gripper_pos[1]],\n",
    "        z=[gripper_pos[2]],\n",
    "        mode='markers',\n",
    "        marker=dict(\n",
    "            size=10,\n",
    "            color=\"blue\",\n",
    "            opacity=1.0\n",
    "        ),\n",
    "        name=\"Gripper\"\n",
    "    ))\n",
    "    \n",
    "    if noisy_point is not None:\n",
    "        fig.add_trace(go.Scatter3d(\n",
    "            x=[noisy_point[0]],\n",
    "            y=[noisy_point[1]],\n",
    "            z=[noisy_point[2]],\n",
    "            mode='markers',\n",
    "            marker=dict(\n",
    "                size=10,\n",
    "                color=\"red\",\n",
    "                opacity=1.0\n",
    "            ),\n",
    "            name=\"Noisy Point\"\n",
    "        ))\n",
    "    \n",
    "    fig.update_layout(\n",
    "        scene=dict(\n",
    "            aspectmode='data',  # Preserve the point cloud's true shape\n",
    "            xaxis=dict(\n",
    "                backgroundcolor='white',\n",
    "                gridcolor='lightgrey',\n",
    "                showbackground=True\n",
    "            ),\n",
    "            yaxis=dict(\n",
    "                backgroundcolor='white',\n",
    "                gridcolor='lightgrey',\n",
    "                showbackground=True\n",
    "            ),\n",
    "            zaxis=dict(\n",
    "                backgroundcolor='white',\n",
    "                gridcolor='lightgrey',\n",
    "                showbackground=True\n",
    "            )\n",
    "        ),\n",
    "        width=800,\n",
    "        height=800,\n",
    "        margin=dict(l=0, r=0, b=0, t=0),\n",
    "        paper_bgcolor='white',  # Set paper background to white\n",
    "        plot_bgcolor='white'    # Set plot background to white\n",
    "    )\n",
    "    \n",
    "    # Show the plot\n",
    "    fig.show()"
   ],
   "id": "2da5a4409a11134",
   "outputs": [],
   "execution_count": 1
  },
  {
   "metadata": {
    "ExecuteTime": {
     "end_time": "2024-11-11T20:21:46.332781Z",
     "start_time": "2024-11-11T20:21:46.328949Z"
    }
   },
   "cell_type": "code",
   "source": [
    "def load_data_point(data_dir):\n",
    "    \"\"\"\n",
    "    Load LMDB data points from directory\n",
    "    \n",
    "    Args:\n",
    "        data_dir (str): Path to data directory containing LMDB files\n",
    "        \n",
    "    Returns:\n",
    "        tuple: (lmdb_txns, data_ids) where data_ids is list of (taskvar, episode_id) tuples\n",
    "    \"\"\"\n",
    "    taskvars = os.listdir(data_dir)\n",
    "    lmdb_envs, lmdb_txns = {}, {}\n",
    "    data_ids = []\n",
    "    \n",
    "    for taskvar in taskvars:\n",
    "        lmdb_envs[taskvar] = lmdb.open(os.path.join(data_dir, taskvar), readonly=True)\n",
    "        lmdb_txns[taskvar] = lmdb_envs[taskvar].begin()\n",
    "        \n",
    "        data_ids.extend(\n",
    "            [(taskvar, key) for key in lmdb_txns[taskvar].cursor().iternext(values=False)]\n",
    "        )\n",
    "    \n",
    "    return lmdb_txns, data_ids\n",
    "\n",
    "def load_episode(taskvar, episode_id, lmdb_txns):\n",
    "    \"\"\"\n",
    "    Load specific episode data from LMDB\n",
    "    \n",
    "    Args:\n",
    "        taskvar (str): Task variant name\n",
    "        episode_id (bytes): Episode ID\n",
    "        lmdb_txns (dict): Dictionary of LMDB transactions\n",
    "        \n",
    "    Returns:\n",
    "        tuple: (episode_data, num_steps)\n",
    "    \"\"\"\n",
    "    data = msgpack.unpackb(lmdb_txns[taskvar].get(episode_id))\n",
    "    num_steps = len(data['xyz'])\n",
    "    \n",
    "    return data, num_steps"
   ],
   "id": "7292d7ef0026b04e",
   "outputs": [],
   "execution_count": 4
  },
  {
   "metadata": {
    "collapsed": true,
    "ExecuteTime": {
     "end_time": "2024-11-11T20:22:14.517421Z",
     "start_time": "2024-11-11T20:21:47.654957Z"
    }
   },
   "cell_type": "code",
   "source": [
    "data_dir = '../data/peract/train_dataset/motion_keysteps_bbox_pcd/seed0/voxel1cm'\n",
    "data_dict = {}\n",
    "\n",
    "print(f\"Loading coarse data\")\n",
    "lmdb_txns, data_ids = load_data_point(data_dir)"
   ],
   "id": "initial_id",
   "outputs": [
    {
     "name": "stdout",
     "output_type": "stream",
     "text": [
      "Loading coarse data\n"
     ]
    }
   ],
   "execution_count": 5
  },
  {
   "metadata": {
    "ExecuteTime": {
     "end_time": "2024-11-11T20:22:14.916427Z",
     "start_time": "2024-11-11T20:22:14.573384Z"
    }
   },
   "cell_type": "code",
   "source": [
    "taskvar = \"close_jar_peract+19\"\n",
    "\n",
    "episode_id = b'episode20'\n",
    "\n",
    "data, num_steps = load_episode(taskvar, episode_id, lmdb_txns)\n",
    "data_dict['coarse'] = {'data': data, 'num_steps': num_steps}"
   ],
   "id": "4587674189f3b32c",
   "outputs": [],
   "execution_count": 6
  },
  {
   "metadata": {
    "ExecuteTime": {
     "end_time": "2024-11-11T20:22:22.921370Z",
     "start_time": "2024-11-11T20:22:22.916331Z"
    }
   },
   "cell_type": "code",
   "source": "data.keys()",
   "id": "4f879b3bc19a2f1c",
   "outputs": [
    {
     "data": {
      "text/plain": [
       "dict_keys(['xyz', 'rgb', 'sem', 'ee_pose', 'bbox_info', 'pose_info', 'trajs', 'end_open_actions', 'is_new_keystep'])"
      ]
     },
     "execution_count": 7,
     "metadata": {},
     "output_type": "execute_result"
    }
   ],
   "execution_count": 7
  },
  {
   "metadata": {
    "ExecuteTime": {
     "end_time": "2024-11-11T20:23:34.861310Z",
     "start_time": "2024-11-11T20:23:34.858259Z"
    }
   },
   "cell_type": "code",
   "source": "num_steps",
   "id": "9c61eecd771894ed",
   "outputs": [
    {
     "data": {
      "text/plain": [
       "7"
      ]
     },
     "execution_count": 10,
     "metadata": {},
     "output_type": "execute_result"
    }
   ],
   "execution_count": 10
  },
  {
   "metadata": {
    "ExecuteTime": {
     "end_time": "2024-11-11T20:23:22.890188Z",
     "start_time": "2024-11-11T20:23:22.886057Z"
    }
   },
   "cell_type": "code",
   "source": "data['ee_pose']",
   "id": "34e4f136b582b34f",
   "outputs": [
    {
     "data": {
      "text/plain": [
       "array([[ 2.78457761e-01, -8.14718567e-03,  1.47197890e+00,\n",
       "        -2.26825080e-07,  9.92663085e-01,  1.09368307e-06,\n",
       "         1.20913170e-01,  1.00000000e+00],\n",
       "       [ 2.17031807e-01,  1.51475072e-01,  9.29268777e-01,\n",
       "        -1.20047271e-01,  9.92768168e-01, -7.27345177e-05,\n",
       "        -3.81539518e-04,  1.00000000e+00],\n",
       "       [ 2.17071697e-01,  1.51747972e-01,  7.58757830e-01,\n",
       "        -1.20201498e-01,  9.92749453e-01, -7.52486594e-05,\n",
       "        -5.24296425e-04,  0.00000000e+00],\n",
       "       [ 2.16754004e-01,  1.50478184e-01,  9.26252961e-01,\n",
       "        -1.20212406e-01,  9.92747426e-01, -1.87031779e-04,\n",
       "        -1.27542298e-03,  0.00000000e+00],\n",
       "       [ 2.69367099e-01, -2.78138995e-01,  9.27740932e-01,\n",
       "        -1.22757763e-01,  9.92436349e-01,  5.41877700e-04,\n",
       "        -6.27792790e-04,  0.00000000e+00],\n",
       "       [ 2.69397646e-01, -2.78723121e-01,  8.67343545e-01,\n",
       "        -1.22859091e-01,  9.92423534e-01,  5.91070624e-04,\n",
       "        -9.21464758e-04,  0.00000000e+00],\n",
       "       [ 2.69598693e-01, -2.78828621e-01,  8.67048621e-01,\n",
       "         6.10854566e-01,  7.91742623e-01, -2.22725197e-04,\n",
       "        -5.21537382e-04,  1.00000000e+00]], dtype=float32)"
      ]
     },
     "execution_count": 9,
     "metadata": {},
     "output_type": "execute_result"
    }
   ],
   "execution_count": 9
  },
  {
   "metadata": {},
   "cell_type": "code",
   "source": [
    "for t in range(2):\n",
    "    xyz, rgb = data['xyz'][t], data['rgb'][t]\n",
    "    for idx, action in enumerate(data['trajs'][t]):\n",
    "        print(f\"displaying action step {idx}: {action}\")\n",
    "        gripper_pos = data['ee_pose'][t][:3]\n",
    "        print(f\"x: {xyz.shape}, rgb: {rgb.shape}\")\n",
    "        visualize_point_clouds(xyz, rgb, gripper_pos)\n",
    "        if input(f\"Step {t}/{num_steps-1}. Press Enter to continue, 'q' to quit: \") == 'q':\n",
    "            break"
   ],
   "id": "1786d0b36ac79889",
   "outputs": [],
   "execution_count": null
  },
  {
   "metadata": {
    "ExecuteTime": {
     "end_time": "2024-11-11T16:53:54.562153Z",
     "start_time": "2024-11-11T16:53:54.559431Z"
    }
   },
   "cell_type": "code",
   "source": "max_traj_len = 1",
   "id": "7d6846ca29ac992",
   "outputs": [],
   "execution_count": 16
  },
  {
   "metadata": {
    "ExecuteTime": {
     "end_time": "2024-11-11T16:59:08.672803Z",
     "start_time": "2024-11-11T16:59:08.596802Z"
    }
   },
   "cell_type": "code",
   "source": [
    "gt_act_obj_label_file = '../assets/taskvars_target_label_zrange_peract.json'\n",
    "\n",
    "gt_act_obj_labels = json.load(open(gt_act_obj_label_file))"
   ],
   "id": "95bfc598d2b02abb",
   "outputs": [],
   "execution_count": 31
  },
  {
   "metadata": {
    "ExecuteTime": {
     "end_time": "2024-11-11T16:59:18.889801Z",
     "start_time": "2024-11-11T16:59:18.886430Z"
    }
   },
   "cell_type": "code",
   "source": [
    "gt_act_obj_labels = gt_act_obj_labels[taskvar][episode_id.decode()]\n",
    "print(gt_act_obj_labels)"
   ],
   "id": "e178748b95fe1ae2",
   "outputs": [
    {
     "name": "stdout",
     "output_type": "stream",
     "text": [
      "[{'action': 'grasp', 'object': {'name': 'gray lid', 'fine': [87], 'coarse': [87]}}, {'action': 'move grasped object', 'target': {'name': 'white jar', 'fine': [85], 'coarse': [85]}}, {'action': 'rotate grasped object'}]\n"
     ]
    }
   ],
   "execution_count": 33
  },
  {
   "metadata": {
    "ExecuteTime": {
     "end_time": "2024-11-11T16:56:05.435294Z",
     "start_time": "2024-11-11T16:56:05.432459Z"
    }
   },
   "cell_type": "code",
   "source": [
    "def get_mask_with_label_ids(sem, label_ids):\n",
    "    mask = sem == label_ids[0]\n",
    "    for label_id in label_ids[1:]:\n",
    "        mask = mask | (sem == label_id)\n",
    "    return mask"
   ],
   "id": "10835ac29db14f05",
   "outputs": [],
   "execution_count": 23
  },
  {
   "metadata": {
    "ExecuteTime": {
     "end_time": "2024-11-11T17:02:13.116204Z",
     "start_time": "2024-11-11T17:02:13.110137Z"
    }
   },
   "cell_type": "code",
   "source": "gt_act_obj_labels[3]['action']",
   "id": "e9e7f463a62b28a3",
   "outputs": [
    {
     "data": {
      "text/plain": [
       "'rotate grasped object'"
      ]
     },
     "execution_count": 42,
     "metadata": {},
     "output_type": "execute_result"
    }
   ],
   "execution_count": 42
  },
  {
   "metadata": {
    "ExecuteTime": {
     "end_time": "2024-11-11T17:03:10.045053Z",
     "start_time": "2024-11-11T17:03:09.975418Z"
    }
   },
   "cell_type": "code",
   "source": [
    "data = data_dict['coarse']['data']\n",
    "\n",
    "keystep = 0\n",
    "num_steps = len(data['xyz'])\n",
    "for t in range(num_steps):\n",
    "    print(f\"keystep: {keystep}\")\n",
    "    if data['is_new_keystep'][t]:\n",
    "        keystep += 1\n",
    "\n",
    "    xyz, rgb, gt_sem = data['xyz'][t], data['rgb'][t], data['sem'][t]\n",
    "    arm_links_info = (\n",
    "        {k: v[t] for k, v in data['bbox_info'].items()},\n",
    "        {k: v[t] for k, v in data['pose_info'].items()}\n",
    "    )\n",
    "\n",
    "    if t < num_steps - 1:\n",
    "        gt_traj_len = len(data['trajs'][t])\n",
    "        gt_trajs = copy.deepcopy(data['trajs'][t])[:max_traj_len]\n",
    "    else:\n",
    "        gt_traj_len = 1\n",
    "        gt_trajs = copy.deepcopy(data['trajs'][-2][-1:])\n",
    "    ee_pose = copy.deepcopy(data['ee_pose'][t])\n",
    "\n",
    "    action_name = gt_act_obj_labels[keystep]['action']\n",
    "\n",
    "    pc_label = np.zeros((gt_sem.shape[0], ), dtype=np.int32)\n",
    "    for oname in ['object', 'target']:\n",
    "        if oname in gt_act_obj_labels[keystep]:\n",
    "            v = gt_act_obj_labels[keystep][oname]\n",
    "            obj_label_ids = v['fine']\n",
    "            obj_mask = get_mask_with_label_ids(gt_sem, obj_label_ids)\n",
    "    if True:\n",
    "        if 'object' in gt_act_obj_labels[keystep]:\n",
    "            action_name = f\"{action_name} {gt_act_obj_labels[keystep]['object']['name']}\"\n",
    "        if 'target' in gt_act_obj_labels[keystep]:\n",
    "            action_name = f\"{action_name} to {gt_act_obj_labels[keystep]['target']['name']}\"\n"
   ],
   "id": "3739746ef7ca3b14",
   "outputs": [
    {
     "name": "stdout",
     "output_type": "stream",
     "text": [
      "keystep: 0\n",
      "keystep: 1\n",
      "keystep: 1\n",
      "keystep: 2\n",
      "keystep: 2\n",
      "keystep: 2\n"
     ]
    },
    {
     "ename": "IndexError",
     "evalue": "list index out of range",
     "output_type": "error",
     "traceback": [
      "\u001B[0;31m---------------------------------------------------------------------------\u001B[0m",
      "\u001B[0;31mIndexError\u001B[0m                                Traceback (most recent call last)",
      "Cell \u001B[0;32mIn[43], line 24\u001B[0m\n\u001B[1;32m     21\u001B[0m     gt_trajs \u001B[38;5;241m=\u001B[39m copy\u001B[38;5;241m.\u001B[39mdeepcopy(data[\u001B[38;5;124m'\u001B[39m\u001B[38;5;124mtrajs\u001B[39m\u001B[38;5;124m'\u001B[39m][\u001B[38;5;241m-\u001B[39m\u001B[38;5;241m2\u001B[39m][\u001B[38;5;241m-\u001B[39m\u001B[38;5;241m1\u001B[39m:])\n\u001B[1;32m     22\u001B[0m ee_pose \u001B[38;5;241m=\u001B[39m copy\u001B[38;5;241m.\u001B[39mdeepcopy(data[\u001B[38;5;124m'\u001B[39m\u001B[38;5;124mee_pose\u001B[39m\u001B[38;5;124m'\u001B[39m][t])\n\u001B[0;32m---> 24\u001B[0m action_name \u001B[38;5;241m=\u001B[39m \u001B[43mgt_act_obj_labels\u001B[49m\u001B[43m[\u001B[49m\u001B[43mkeystep\u001B[49m\u001B[43m]\u001B[49m[\u001B[38;5;124m'\u001B[39m\u001B[38;5;124maction\u001B[39m\u001B[38;5;124m'\u001B[39m]\n\u001B[1;32m     26\u001B[0m pc_label \u001B[38;5;241m=\u001B[39m np\u001B[38;5;241m.\u001B[39mzeros((gt_sem\u001B[38;5;241m.\u001B[39mshape[\u001B[38;5;241m0\u001B[39m], ), dtype\u001B[38;5;241m=\u001B[39mnp\u001B[38;5;241m.\u001B[39mint32)\n\u001B[1;32m     27\u001B[0m \u001B[38;5;28;01mfor\u001B[39;00m oname \u001B[38;5;129;01min\u001B[39;00m [\u001B[38;5;124m'\u001B[39m\u001B[38;5;124mobject\u001B[39m\u001B[38;5;124m'\u001B[39m, \u001B[38;5;124m'\u001B[39m\u001B[38;5;124mtarget\u001B[39m\u001B[38;5;124m'\u001B[39m]:\n",
      "\u001B[0;31mIndexError\u001B[0m: list index out of range"
     ]
    }
   ],
   "execution_count": 43
  },
  {
   "metadata": {},
   "cell_type": "code",
   "outputs": [],
   "execution_count": null,
   "source": "",
   "id": "e5a937253a7c1316"
  }
 ],
 "metadata": {
  "kernelspec": {
   "display_name": "Python 3",
   "language": "python",
   "name": "python3"
  },
  "language_info": {
   "codemirror_mode": {
    "name": "ipython",
    "version": 2
   },
   "file_extension": ".py",
   "mimetype": "text/x-python",
   "name": "python",
   "nbconvert_exporter": "python",
   "pygments_lexer": "ipython2",
   "version": "2.7.6"
  }
 },
 "nbformat": 4,
 "nbformat_minor": 5
}
